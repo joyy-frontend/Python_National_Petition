{
 "cells": [
  {
   "cell_type": "code",
   "execution_count": 1,
   "metadata": {},
   "outputs": [],
   "source": [
    "from bs4 import BeautifulSoup"
   ]
  },
  {
   "cell_type": "code",
   "execution_count": 2,
   "metadata": {},
   "outputs": [],
   "source": [
    "from selenium import webdriver"
   ]
  },
  {
   "cell_type": "code",
   "execution_count": 4,
   "metadata": {},
   "outputs": [],
   "source": [
    "driver = webdriver.Chrome(\"./chromedriver\")"
   ]
  },
  {
   "cell_type": "code",
   "execution_count": 5,
   "metadata": {},
   "outputs": [],
   "source": [
    "driver.get(\"https://www1.president.go.kr/petitions/best?page=1\")"
   ]
  },
  {
   "cell_type": "code",
   "execution_count": 16,
   "metadata": {},
   "outputs": [],
   "source": [
    "soup = BeautifulSoup(driver.page_source, 'html.parser')\n",
    "result_list = []"
   ]
  },
  {
   "cell_type": "markdown",
   "metadata": {},
   "source": [
    "#### 전체 html을 가지고 와서 글 제목만 출력 (div 안에 class명이 bl_subject의 제목)"
   ]
  },
  {
   "cell_type": "code",
   "execution_count": 17,
   "metadata": {},
   "outputs": [
    {
     "name": "stdout",
     "output_type": "stream",
     "text": [
      "정경심 1심 재판부(임정엽, 권성수, 김선희)의 탄핵을 요구합니다.\n",
      "추미애 법무부 장관에 대한 대통령님의 재신임을 요구합니다.\n",
      "잔인하고도 무서운 학교폭력으로 우리아들의 인생이 망가졌습니다.\n",
      "아동학대 방조한 양천경찰서장 및 담당경찰관의 파면을 요구합니다\n",
      "정인이를 두번죽인 양부모처벌을 중형으로 바꿔주세요\n",
      "[코로나 시대, 실내체육시설도 제한적, 유동적 운영이 필요합니다.]\n",
      "고양이를 잔혹하게 학대하고 먹는 단체 오픈카톡방 “*****”을 수사하고 처벌하여 주십시오…\n",
      "정인이 양부는 양모와 공범입니다. 반드시 살인죄가 적용돼야 합니다.\n",
      "판사, 검사 자녀들의 입시비리 전수조사를 해 주시기 바랍니다\n",
      "딸의 남자친구가 제 딸과, 언니인 제 큰 딸까지 살해하였습니다.\n",
      "정인아...미안해...아동학대가 다시는 일어나지 못하도록 관련자 강력한 처벌을 청원합니다\n",
      "코로나 백신 도입시, 우리나라 기자분들이 가장 먼저 접종받을 수 있도록 선처 바랍니다.\n",
      "약칭 '일베' 사이트에서 성희롱 글들과 장애인 비하글등을 수없이 올린 사…\n",
      "이명박,박근혜 전 대통령 사면 반대 청원\n",
      "길냥이 학대 유튜버 수사 착수와 처벌 요청 합니다\n"
     ]
    }
   ],
   "source": [
    "for i in soup.select(\"#cont_view > div.cs_area > div > div > div.board.text > div.b_list.category > div.bl_body > ul > li\"):\n",
    "    print(i.find(\"div\", class_=\"bl_subject\").text[3:].strip())\n",
    "    result_list.append(i.find(\"div\", class_=\"bl_subject\").text[3:].strip())"
   ]
  },
  {
   "cell_type": "code",
   "execution_count": 18,
   "metadata": {},
   "outputs": [],
   "source": [
    "driver.close()"
   ]
  }
 ],
 "metadata": {
  "kernelspec": {
   "display_name": "Python 3",
   "language": "python",
   "name": "python3"
  },
  "language_info": {
   "codemirror_mode": {
    "name": "ipython",
    "version": 3
   },
   "file_extension": ".py",
   "mimetype": "text/x-python",
   "name": "python",
   "nbconvert_exporter": "python",
   "pygments_lexer": "ipython3",
   "version": "3.7.3"
  }
 },
 "nbformat": 4,
 "nbformat_minor": 2
}
